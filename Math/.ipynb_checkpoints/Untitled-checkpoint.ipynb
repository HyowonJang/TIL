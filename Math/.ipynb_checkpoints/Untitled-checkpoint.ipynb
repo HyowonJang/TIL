{
 "cells": [
  {
   "cell_type": "markdown",
   "metadata": {},
   "source": [
    "## 1장 수학의 기초"
   ]
  },
  {
   "cell_type": "markdown",
   "metadata": {},
   "source": [
    "### 그리스 문자"
   ]
  },
  {
   "cell_type": "markdown",
   "metadata": {},
   "source": [
    "$\\alpha$ : alpha<br>\n",
    "$\\beta$ : beta<br>\n",
    "$\\gamma$ : gamma<br>\n",
    "$\\delta$ : delta<br>\n",
    "$\\epsilon$ : epsilon<br>\n",
    "$\\zeta$ : zeta<br>\n",
    "$\\eta$ : eta<br>\n",
    "$\\theta$ : theta<br>\n",
    "$\\kappa$ : kappa<br>\n",
    "$\\lambda$ : lambda<br>\n",
    "$\\mu$  : mu<br>\n",
    "$\\nu$ : nu<br>\n",
    "$\\xi$ : xi<br>\n",
    "$\\pi$ : pi<br>\n",
    "$\\rho$ :rho<br>\n",
    "$\\sigma$ :sigma<br>\n",
    "$\\tau$ : tau<br>\n",
    "$\\phi$ : phi<br>\n",
    "$\\chi$ : chi<br>\n",
    "$\\psi$ : psi<br>\n",
    "$\\omega$ : omega<br>"
   ]
  },
  {
   "cell_type": "markdown",
   "metadata": {},
   "source": [
    "### TeX로 수식 작성"
   ]
  },
  {
   "cell_type": "markdown",
   "metadata": {},
   "source": [
    "#### 작성 예시"
   ]
  },
  {
   "cell_type": "markdown",
   "metadata": {},
   "source": [
    "```\n",
    "$$\n",
    "\\begin{aligned}\n",
    "\\prod_{m=1}^3\\prod_{n=1}^2 (m + 2n) \n",
    "&= \\prod_{m=1}^3 \\left( \\prod_{n=1}^2 (m + 2n) \\right) \\\\\n",
    "&= \\prod_{m=1}^3 \\big( (m + 2 \\cdot 1) \\cdot (m + 2 \\cdot 2) \\big) \\\\\n",
    "&=\n",
    "\\big( (1 + 2 \\cdot 1) \\cdot (1 + 2 \\cdot 2) \\big) \\cdot \n",
    "\\big( (2 + 2 \\cdot 1) \\cdot (2 + 2 \\cdot 2) \\big) \\cdot \n",
    "\\big( (3 + 2 \\cdot 1) \\cdot (3 + 2 \\cdot 2) \\big) \n",
    "\\end{aligned}\n",
    "$$\n",
    "```"
   ]
  },
  {
   "cell_type": "markdown",
   "metadata": {},
   "source": [
    "$$\n",
    "\\begin{aligned}\n",
    "\\prod_{m=1}^3\\prod_{n=1}^2 (m + 2n) \n",
    "&= \\prod_{m=1}^3 \\left( \\prod_{n=1}^2 (m + 2n) \\right) \\\\\n",
    "&= \\prod_{m=1}^3 \\big( (m + 2 \\cdot 1) \\cdot (m + 2 \\cdot 2) \\big) \\\\\n",
    "&=\n",
    "\\big( (1 + 2 \\cdot 1) \\cdot (1 + 2 \\cdot 2) \\big) \\cdot \n",
    "\\big( (2 + 2 \\cdot 1) \\cdot (2 + 2 \\cdot 2) \\big) \\cdot \n",
    "\\big( (3 + 2 \\cdot 1) \\cdot (3 + 2 \\cdot 2) \\big) \n",
    "\\end{aligned}\n",
    "$$"
   ]
  },
  {
   "cell_type": "markdown",
   "metadata": {},
   "source": [
    "#### 수식 작성 및 코드 구현"
   ]
  },
  {
   "cell_type": "markdown",
   "metadata": {},
   "source": [
    "$$ \\sum_{i=1}^2 \\sum_{j=1}^3 (i+j) $$"
   ]
  },
  {
   "cell_type": "code",
   "execution_count": 15,
   "metadata": {},
   "outputs": [
    {
     "data": {
      "text/plain": [
       "21"
      ]
     },
     "execution_count": 15,
     "metadata": {},
     "output_type": "execute_result"
    }
   ],
   "source": [
    "result = 0\n",
    "for i in range(1,3):\n",
    "    for j in range(1,4):\n",
    "        result += i+j\n",
    "        \n",
    "result"
   ]
  },
  {
   "cell_type": "markdown",
   "metadata": {},
   "source": [
    "$$\n",
    "\\prod_{i=1}^2 \\left( \\sum_{j=1}^3 (2i+j) \\right)\n",
    "$$"
   ]
  },
  {
   "cell_type": "code",
   "execution_count": 17,
   "metadata": {},
   "outputs": [
    {
     "data": {
      "text/plain": [
       "216"
      ]
     },
     "execution_count": 17,
     "metadata": {},
     "output_type": "execute_result"
    }
   ],
   "source": [
    "result = 0\n",
    "result_total = 1\n",
    "\n",
    "for i in range(1,3):\n",
    "    for j in range(1,4):\n",
    "        result += (2*i)+j\n",
    "    result_total *= result\n",
    "    result = 0\n",
    "\n",
    "result_total"
   ]
  },
  {
   "cell_type": "markdown",
   "metadata": {},
   "source": [
    "## 2장 넘파이로 공부하는 선형대수"
   ]
  },
  {
   "cell_type": "code",
   "execution_count": null,
   "metadata": {},
   "outputs": [],
   "source": []
  },
  {
   "cell_type": "code",
   "execution_count": null,
   "metadata": {},
   "outputs": [],
   "source": []
  },
  {
   "cell_type": "code",
   "execution_count": null,
   "metadata": {},
   "outputs": [],
   "source": []
  },
  {
   "cell_type": "code",
   "execution_count": null,
   "metadata": {},
   "outputs": [],
   "source": []
  },
  {
   "cell_type": "code",
   "execution_count": null,
   "metadata": {},
   "outputs": [],
   "source": []
  },
  {
   "cell_type": "code",
   "execution_count": null,
   "metadata": {},
   "outputs": [],
   "source": []
  },
  {
   "cell_type": "code",
   "execution_count": null,
   "metadata": {},
   "outputs": [],
   "source": []
  },
  {
   "cell_type": "code",
   "execution_count": null,
   "metadata": {},
   "outputs": [],
   "source": []
  },
  {
   "cell_type": "code",
   "execution_count": null,
   "metadata": {},
   "outputs": [],
   "source": []
  },
  {
   "cell_type": "code",
   "execution_count": null,
   "metadata": {},
   "outputs": [],
   "source": []
  },
  {
   "cell_type": "code",
   "execution_count": null,
   "metadata": {},
   "outputs": [],
   "source": []
  }
 ],
 "metadata": {
  "kernelspec": {
   "display_name": "Python 3",
   "language": "python",
   "name": "python3"
  },
  "language_info": {
   "codemirror_mode": {
    "name": "ipython",
    "version": 3
   },
   "file_extension": ".py",
   "mimetype": "text/x-python",
   "name": "python",
   "nbconvert_exporter": "python",
   "pygments_lexer": "ipython3",
   "version": "3.6.4"
  }
 },
 "nbformat": 4,
 "nbformat_minor": 2
}
